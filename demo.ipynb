{
 "cells": [
  {
   "cell_type": "markdown",
   "id": "7c423034",
   "metadata": {},
   "source": [
    "<a href=\"https://colab.research.google.com/github/rhodes-byu/RF-Proximities-Workshop/blob/main/demo.ipynb\" target=\"_blank\">\n",
    "    <img src=\"https://colab.research.google.com/assets/colab-badge.svg\" alt=\"Open In Colab\"/>\n",
    "</a>\n",
    "\n"
   ]
  },
  {
   "cell_type": "markdown",
   "id": "af4c9ae1",
   "metadata": {},
   "source": [
    "# Random Forest Proximities and Their Applications in Data Science"
   ]
  },
  {
   "cell_type": "markdown",
   "id": "2b103a0a",
   "metadata": {
    "vscode": {
     "languageId": "plaintext"
    }
   },
   "source": [
    "## Intro\n",
    "\n",
    "In this demo, we will cover the basics of random forests (RF), focusing primarily on random forest proximities. Proximities form a supervised similarity measure that serve as the basis for a variety of applications. Specifically, we will be covering the use of RF proximities for visualization for data exploration, missing data imputation, outlier detecion, and ..."
   ]
  },
  {
   "cell_type": "markdown",
   "id": "48b4a60f",
   "metadata": {
    "vscode": {
     "languageId": "plaintext"
    }
   },
   "source": [
    "### Installation and Imports\n",
    "Although viewed by Leo Breiman (random forest's primary author) as one of the most important aspects of random forests, Scikit-Learn's implementation of random forests does not implement them!  We will thus be relying on the RF-GAP-Python package to generate proximities for our applications. The installation is done by running the below cell:"
   ]
  },
  {
   "cell_type": "code",
   "execution_count": null,
   "id": "c64a32a1",
   "metadata": {},
   "outputs": [],
   "source": [
    "!pip install git+https://github.com/jakerhodes/RF-GAP-Python"
   ]
  },
  {
   "cell_type": "code",
   "execution_count": null,
   "id": "8dca4b80",
   "metadata": {},
   "outputs": [],
   "source": [
    "from rfgap import RFGAP, impute\n",
    "from sklearn.model_selection import train_test_split\n",
    "import pandas as pd\n",
    "import numpy as np\n",
    "import matplotlib.pyplot as plt\n",
    "import seaborn as sns\n",
    "from sklearn.datasets import fetch_openml\n",
    "from sklearn.metrics import accuracy_score\n",
    "from sklearn.manifold import MDS"
   ]
  },
  {
   "cell_type": "markdown",
   "id": "ef34f6e9",
   "metadata": {},
   "source": [
    "#### Loading the Data\n",
    "First we will read in the `Titanic` dataset using `fetch_openml`. The dataset contains information about passengers on the Titanic, including items such as their name, sex, class, and whether they survived or not."
   ]
  },
  {
   "cell_type": "code",
   "execution_count": null,
   "id": "18fb9492",
   "metadata": {},
   "outputs": [],
   "source": [
    "# Read in Titanic\n",
    "titanic = fetch_openml('titanic', version=1, as_frame=True)"
   ]
  },
  {
   "cell_type": "code",
   "execution_count": null,
   "id": "5e81eb36",
   "metadata": {},
   "outputs": [],
   "source": [
    "titanic.keys()"
   ]
  },
  {
   "cell_type": "code",
   "execution_count": null,
   "id": "dbb4f351",
   "metadata": {},
   "outputs": [],
   "source": [
    "titanic.data.head()"
   ]
  },
  {
   "cell_type": "code",
   "execution_count": null,
   "id": "396a6f7c",
   "metadata": {},
   "outputs": [],
   "source": [
    "titanic.data.info()"
   ]
  },
  {
   "cell_type": "code",
   "execution_count": null,
   "id": "3c7ebac8",
   "metadata": {},
   "outputs": [],
   "source": [
    "X = titanic.data.copy()\n",
    "X.drop(['name', 'ticket', 'cabin', 'boat', 'body', 'home.dest'], axis=1, inplace=True)\n",
    "\n",
    "# One-hot encoding of categorical variables\n",
    "X_one_hot = pd.get_dummies(X, drop_first=False)"
   ]
  },
  {
   "cell_type": "code",
   "execution_count": null,
   "id": "32d75d05",
   "metadata": {},
   "outputs": [],
   "source": [
    "X.info()"
   ]
  },
  {
   "cell_type": "markdown",
   "id": "0f5606e3",
   "metadata": {},
   "source": [
    "Note that age, fare, and embarked have missing values. We can impute them using the RF-GAP proximities."
   ]
  },
  {
   "cell_type": "markdown",
   "id": "ad85738e",
   "metadata": {},
   "source": [
    "### Missing Value Imputation\n",
    "\n",
    "Leo Breiman described two methods for random forest imputation. The first method does not actually use the random forest at all, but simply imputes using the mean, median, or most frequent category for an initial guess. The second method uses the random forest proximities to refine the imputation. Here is the original description:\n",
    "\n",
    "---\n",
    "\n",
    "**Random forests has two ways of replacing missing values.**\n",
    "\n",
    "1. **Fast Method (Initial Guess)**\n",
    "\n",
    "   - If the *m*th variable is **not categorical**, compute the **median** of all values of this variable in class *j*, then use this value to replace all missing values of the *m*th variable in class *j*.\n",
    "   - If the *m*th variable is **categorical**, the replacement is the **most frequent non-missing** value in class *j*.\n",
    "   - These replacement values are called **fills**.\n",
    "\n",
    "2. **Proximity-Based Method (Refined Imputation)**\n",
    "\n",
    "   - This method is **computationally more expensive** but has given better performance, even with large amounts of missing data.\n",
    "   - It replaces missing values **only in the training set**.\n",
    "\n",
    "   **Steps:**\n",
    "   1. Perform a rough and inaccurate filling in of the missing values.\n",
    "   2. Run a random forest and compute **proximities**.\n",
    "   3. For a missing value:\n",
    "      - If `x(m,n)` is a **missing continuous** value, estimate its fill as the **average** over the non-missing values of the *m*th variable, **weighted by the proximities** between the *n*th case and the cases with non-missing values.\n",
    "      - If it is a **missing categorical** variable, replace it with the **most frequent non-missing** value, where **frequency is weighted by proximity**.\n",
    "   4. **Iterate**:\n",
    "      - Construct a new forest using the newly filled-in values.\n",
    "      - Find new fills.\n",
    "      - Repeat the process.\n",
    "\n",
    "   - **Our experience is that 4–6 iterations are enough.**\n"
   ]
  },
  {
   "cell_type": "code",
   "execution_count": null,
   "id": "b8805983",
   "metadata": {},
   "outputs": [],
   "source": [
    "X_train, X_test, y_train, y_test = train_test_split(X_one_hot, titanic.target, test_size=0.2, random_state=42)"
   ]
  },
  {
   "cell_type": "code",
   "execution_count": null,
   "id": "5167307a",
   "metadata": {},
   "outputs": [],
   "source": [
    "X_train_imputed, X_test_imputed = impute.rfgap_impute(x = X_train, y = y_train, initialization = 'knn', x_test = X_test)"
   ]
  },
  {
   "cell_type": "code",
   "execution_count": null,
   "id": "d16082ec",
   "metadata": {},
   "outputs": [],
   "source": [
    "X_missing = X_train.isna().sum(axis = 1)"
   ]
  },
  {
   "cell_type": "code",
   "execution_count": null,
   "id": "46a0af94",
   "metadata": {},
   "outputs": [],
   "source": [
    "X_train_imputed_plot = X_train_imputed.copy()\n",
    "X_train_imputed_plot['Sex'] = X_train_imputed_plot['sex_female'].map({1: 'female', 0: 'male'})\n",
    "sns.swarmplot(data=X_train_imputed_plot, x='age', y='Sex', hue = X_missing)"
   ]
  },
  {
   "cell_type": "code",
   "execution_count": null,
   "id": "118c658a",
   "metadata": {},
   "outputs": [],
   "source": [
    "# TODO: Review above see what to keep"
   ]
  },
  {
   "cell_type": "markdown",
   "id": "eb75ef6e",
   "metadata": {},
   "source": [
    "## Training the RandomForest\n",
    "\n",
    "The RF-GAP class is a wrapper around the `RandomForestClassifier` or `RandomForestRegressor` from `sklearn`. It takes most of the same parameters, but has the added benefit of the proximity construction and subsequent applications. As with other models in `sklearn`, we train using the `model.fit(x, y)` method, and make predictions using the `model.predict(x)` method. Aftwerward, we can evalute the random forest model using our metric of choice.\n",
    "\n",
    "To include the computation of the out-of-bag accuracy, we need to include the `oob_score = True` argument. We can access the score using `model.oob_score_`."
   ]
  },
  {
   "cell_type": "code",
   "execution_count": null,
   "id": "2c591e3b",
   "metadata": {},
   "outputs": [],
   "source": [
    "rf = RFGAP(prox_method = 'rfgap', n_estimators = 500, oob_score = True, random_state = 42)\n",
    "# Hint: RFGAP defaults to classification, include `y` as an argument or specifiy `prediction_type = 'regression'` for regression.\n",
    "\n",
    "rf.fit(X_train_imputed, y_train)\n",
    "print('OOB Score: ', rf.oob_score_)"
   ]
  },
  {
   "cell_type": "markdown",
   "id": "14585d31",
   "metadata": {},
   "source": [
    "### Predictions on the Test Set\n",
    "As with other `sklearn` models, we can use the `predict` method to make predictions on the test set. The `predict_proba` method will return the predicted probabilities for each class."
   ]
  },
  {
   "cell_type": "code",
   "execution_count": null,
   "id": "6eb5d735",
   "metadata": {},
   "outputs": [],
   "source": [
    "yhat = rf.predict(X_test_imputed)\n",
    "print(yhat)\n"
   ]
  },
  {
   "cell_type": "code",
   "execution_count": null,
   "id": "52ee06b6",
   "metadata": {},
   "outputs": [],
   "source": [
    "print('Test Score: ', rf.score(X_test_imputed, y_test))"
   ]
  },
  {
   "cell_type": "markdown",
   "id": "99fe43da",
   "metadata": {},
   "source": [
    "Note the similarity between the test accuracy and OOB accuracy."
   ]
  },
  {
   "cell_type": "markdown",
   "id": "a1b374fe",
   "metadata": {},
   "source": [
    "## Generating the proximities\n",
    "The `RFGAP` class uses the built-in method `get_proximities` to generate the random forest proximities. By default, the RF-GAP proximities are generated across the full test set. Other options include the original and OOB versions of the proximities. \n",
    "\n",
    "As the RF-GAP proximities serves as weights (recall: $\\hat{y_i}^{RF} = \\sum_{j = 1}^{n}y_{j}p(i, j)$), each row of the proximity matrix sums to 1. "
   ]
  },
  {
   "cell_type": "code",
   "execution_count": null,
   "id": "b667a83a",
   "metadata": {},
   "outputs": [],
   "source": [
    "prox_rfgap = rf.get_proximities()\n",
    "prox_rfgap.sum(axis = 1)"
   ]
  },
  {
   "cell_type": "code",
   "execution_count": null,
   "id": "5abe5a46",
   "metadata": {},
   "outputs": [],
   "source": [
    "y_train_hot = pd.get_dummies(y_train, drop_first=False)"
   ]
  },
  {
   "cell_type": "code",
   "execution_count": null,
   "id": "2a82ad11",
   "metadata": {},
   "outputs": [],
   "source": [
    "Proximity-based predicted probabilities"
   ]
  },
  {
   "cell_type": "code",
   "execution_count": null,
   "id": "b83a0df5",
   "metadata": {},
   "outputs": [],
   "source": [
    "weighted_sum = prox_rfgap @ y_train_hot\n",
    "print(weighted_sum)"
   ]
  },
  {
   "cell_type": "code",
   "execution_count": null,
   "id": "c293a012",
   "metadata": {},
   "outputs": [],
   "source": [
    "prox_predictions = np.argmax(weighted_sum, axis = 1)\n",
    "oob_predictions = np.argmax(rf.oob_decision_function_, axis = 1)"
   ]
  },
  {
   "cell_type": "code",
   "execution_count": null,
   "id": "f8aa5848",
   "metadata": {},
   "outputs": [],
   "source": [
    "np.sum(oob_predictions == prox_predictions)"
   ]
  },
  {
   "cell_type": "markdown",
   "id": "29766f5f",
   "metadata": {},
   "source": [
    "All of the proximity predictions match the OOB predictions!"
   ]
  },
  {
   "cell_type": "code",
   "execution_count": null,
   "id": "9399424a",
   "metadata": {},
   "outputs": [],
   "source": [
    "### Visualization of the proximities"
   ]
  },
  {
   "cell_type": "code",
   "execution_count": null,
   "id": "b14669dd",
   "metadata": {},
   "outputs": [],
   "source": [
    "help(RFGAP)"
   ]
  },
  {
   "cell_type": "code",
   "execution_count": null,
   "id": "fa5b922c",
   "metadata": {},
   "outputs": [],
   "source": [
    "dir(rf)"
   ]
  },
  {
   "cell_type": "code",
   "execution_count": null,
   "id": "397433b4",
   "metadata": {},
   "outputs": [],
   "source": [
    "rf.force_symmetric = True\n",
    "rf.non_zero_diagonal = True"
   ]
  },
  {
   "cell_type": "code",
   "execution_count": null,
   "id": "898928e8",
   "metadata": {},
   "outputs": [],
   "source": [
    "# rf.set_params(non_zero_diagonal = True, force_symmetric = True)\n",
    "rfgap_symmetric = rf.get_proximities().toarray()\n",
    "rf_distances = 1 - rfgap_symmetric"
   ]
  },
  {
   "cell_type": "code",
   "execution_count": null,
   "id": "f75ec56d",
   "metadata": {},
   "outputs": [],
   "source": [
    "mds = MDS(n_components=2, dissimilarity='precomputed', random_state=42)\n",
    "mds_fit = mds.fit_transform(rf_distances)"
   ]
  },
  {
   "cell_type": "code",
   "execution_count": null,
   "id": "7354e60a",
   "metadata": {},
   "outputs": [],
   "source": [
    "fig, axes = plt.subplots(1, 2, figsize=(22, 10))\n",
    "markers = ['X', '.']\n",
    "s = 80\n",
    "sns.scatterplot(x=mds_fit[:, 0], y=mds_fit[:, 1], \n",
    "                hue=X_train_imputed.sex_male, style=y_train,\n",
    "                palette='Set1', ax=axes[0], s=s,\n",
    "                markers=markers)\n",
    "\n",
    "sns.scatterplot(x=mds_fit[:, 0], y=mds_fit[:, 1], \n",
    "                hue=X_train_imputed.pclass, style=y_train, \n",
    "                palette='Dark2', ax=axes[1], s=s,\n",
    "                markers=markers)\n",
    "\n",
    "\n",
    "for ax in axes:\n",
    "    ax.legend(loc='upper left')\n",
    "fig.suptitle(\"Proximity Visualization via MDS\", fontsize=16)"
   ]
  },
  {
   "cell_type": "markdown",
   "id": "3a59ae88",
   "metadata": {},
   "source": [
    "We can do better!  The Potential of Heat-diffusion for Affinity-based Trajectory Embedding or PHATE is a tool for visualizing high dimensional data. We can apply PHATE to the proximities for a better low-dimensional representation or embedding."
   ]
  },
  {
   "cell_type": "code",
   "execution_count": null,
   "id": "9ed56603",
   "metadata": {},
   "outputs": [],
   "source": [
    "!pip install git+https://github.com/jakerhodes/RF-PHATE"
   ]
  },
  {
   "cell_type": "code",
   "execution_count": null,
   "id": "b4a3b107",
   "metadata": {},
   "outputs": [],
   "source": [
    "from rfphate import RFPHATE"
   ]
  },
  {
   "cell_type": "code",
   "execution_count": null,
   "id": "7a756676",
   "metadata": {},
   "outputs": [],
   "source": []
  },
  {
   "cell_type": "code",
   "execution_count": null,
   "id": "41be016b",
   "metadata": {},
   "outputs": [],
   "source": []
  },
  {
   "cell_type": "code",
   "execution_count": null,
   "id": "1c42e504",
   "metadata": {},
   "outputs": [],
   "source": [
    "## Bonus Material (MA, RF-PHATE, Time Series Classification)"
   ]
  }
 ],
 "metadata": {
  "kernelspec": {
   "display_name": "rf-workshop",
   "language": "python",
   "name": "python3"
  },
  "language_info": {
   "codemirror_mode": {
    "name": "ipython",
    "version": 3
   },
   "file_extension": ".py",
   "mimetype": "text/x-python",
   "name": "python",
   "nbconvert_exporter": "python",
   "pygments_lexer": "ipython3",
   "version": "3.10.16"
  }
 },
 "nbformat": 4,
 "nbformat_minor": 5
}
