{
 "cells": [
  {
   "cell_type": "markdown",
   "id": "7c423034",
   "metadata": {},
   "source": [
    "<a href=\"https://colab.research.google.com/github/your-repo/your-notebook.ipynb\" target=\"_blank\">\n",
    "    <img src=\"https://colab.research.google.com/assets/colab-badge.svg\" alt=\"Open In Colab\"/>\n",
    "</a>\n",
    "\n"
   ]
  },
  {
   "cell_type": "markdown",
   "id": "af4c9ae1",
   "metadata": {},
   "source": [
    "# Random Forest Proximities and Their Applications in Data Science"
   ]
  },
  {
   "cell_type": "markdown",
   "id": "2b103a0a",
   "metadata": {
    "vscode": {
     "languageId": "plaintext"
    }
   },
   "source": [
    "## Intro\n",
    "\n",
    "In this demo, we will cover the basics of random forests (RF), focusing primarily on random forest proximities. Proximities form a supervised similarity measure that serve as the basis for a variety of applications. Specifically, we will be covering the use of RF proximities for visualization for data exploration, missing data imputation, outlier detecion, and ..."
   ]
  },
  {
   "cell_type": "markdown",
   "id": "48b4a60f",
   "metadata": {
    "vscode": {
     "languageId": "plaintext"
    }
   },
   "source": [
    "### Installation and Imports\n",
    "Although viewed by Leo Breiman (random forest's primary author) as one of the most important aspects of random forests, Scikit-Learn's implementation of random forests does not implement them!  We will thus be relying on the RF-GAP-Python package to generate proximities for our applications. The installation is done by running the below cell:"
   ]
  },
  {
   "cell_type": "code",
   "execution_count": 1,
   "id": "c64a32a1",
   "metadata": {},
   "outputs": [
    {
     "name": "stdout",
     "output_type": "stream",
     "text": [
      "Collecting git+https://github.com/jakerhodes/RF-GAP-Python\n",
      "  Cloning https://github.com/jakerhodes/RF-GAP-Python to c:\\users\\rhodes8\\appdata\\local\\temp\\pip-req-build-n5vix076\n",
      "  Resolved https://github.com/jakerhodes/RF-GAP-Python to commit b1c55595b8c25589fd95e17ecaffd804839d7b5f\n",
      "  Preparing metadata (setup.py): started\n",
      "  Preparing metadata (setup.py): finished with status 'done'\n",
      "Requirement already satisfied: scikit-learn in c:\\users\\rhodes8\\appdata\\local\\miniconda3\\lib\\site-packages (from rfgap==0.0.1) (1.6.1)\n",
      "Requirement already satisfied: numpy in c:\\users\\rhodes8\\appdata\\local\\miniconda3\\lib\\site-packages (from rfgap==0.0.1) (2.2.4)\n",
      "Requirement already satisfied: pandas in c:\\users\\rhodes8\\appdata\\local\\miniconda3\\lib\\site-packages (from rfgap==0.0.1) (2.2.3)\n",
      "Requirement already satisfied: scipy in c:\\users\\rhodes8\\appdata\\local\\miniconda3\\lib\\site-packages (from rfgap==0.0.1) (1.15.2)\n",
      "Requirement already satisfied: python-dateutil>=2.8.2 in c:\\users\\rhodes8\\appdata\\local\\miniconda3\\lib\\site-packages (from pandas->rfgap==0.0.1) (2.8.2)\n",
      "Requirement already satisfied: pytz>=2020.1 in c:\\users\\rhodes8\\appdata\\local\\miniconda3\\lib\\site-packages (from pandas->rfgap==0.0.1) (2022.7)\n",
      "Requirement already satisfied: tzdata>=2022.7 in c:\\users\\rhodes8\\appdata\\local\\miniconda3\\lib\\site-packages (from pandas->rfgap==0.0.1) (2023.3)\n",
      "Requirement already satisfied: joblib>=1.2.0 in c:\\users\\rhodes8\\appdata\\local\\miniconda3\\lib\\site-packages (from scikit-learn->rfgap==0.0.1) (1.3.2)\n",
      "Requirement already satisfied: threadpoolctl>=3.1.0 in c:\\users\\rhodes8\\appdata\\local\\miniconda3\\lib\\site-packages (from scikit-learn->rfgap==0.0.1) (3.2.0)\n",
      "Requirement already satisfied: six>=1.5 in c:\\users\\rhodes8\\appdata\\local\\miniconda3\\lib\\site-packages (from python-dateutil>=2.8.2->pandas->rfgap==0.0.1) (1.16.0)\n"
     ]
    },
    {
     "name": "stderr",
     "output_type": "stream",
     "text": [
      "WARNING: Skipping C:\\Users\\rhodes8\\AppData\\Local\\miniconda3\\Lib\\site-packages\\numpy-1.25.2.dist-info due to invalid metadata entry 'name'\n",
      "WARNING: Skipping C:\\Users\\rhodes8\\AppData\\Local\\miniconda3\\Lib\\site-packages\\numpy-1.25.2.dist-info due to invalid metadata entry 'name'\n",
      "  Running command git clone --filter=blob:none --quiet https://github.com/jakerhodes/RF-GAP-Python 'C:\\Users\\rhodes8\\AppData\\Local\\Temp\\pip-req-build-n5vix076'\n",
      "WARNING: Skipping C:\\Users\\rhodes8\\AppData\\Local\\miniconda3\\Lib\\site-packages\\numpy-1.25.2.dist-info due to invalid metadata entry 'name'\n",
      "WARNING: Skipping C:\\Users\\rhodes8\\AppData\\Local\\miniconda3\\Lib\\site-packages\\numpy-1.25.2.dist-info due to invalid metadata entry 'name'\n",
      "WARNING: Skipping C:\\Users\\rhodes8\\AppData\\Local\\miniconda3\\Lib\\site-packages\\numpy-1.25.2.dist-info due to invalid metadata entry 'name'\n",
      "WARNING: Skipping C:\\Users\\rhodes8\\AppData\\Local\\miniconda3\\Lib\\site-packages\\numpy-1.25.2.dist-info due to invalid metadata entry 'name'\n"
     ]
    }
   ],
   "source": [
    "!pip install git+https://github.com/jakerhodes/RF-GAP-Python"
   ]
  }
 ],
 "metadata": {
  "kernelspec": {
   "display_name": "base",
   "language": "python",
   "name": "python3"
  },
  "language_info": {
   "codemirror_mode": {
    "name": "ipython",
    "version": 3
   },
   "file_extension": ".py",
   "mimetype": "text/x-python",
   "name": "python",
   "nbconvert_exporter": "python",
   "pygments_lexer": "ipython3",
   "version": "3.11.4"
  }
 },
 "nbformat": 4,
 "nbformat_minor": 5
}
