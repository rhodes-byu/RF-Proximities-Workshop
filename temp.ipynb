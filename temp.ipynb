{
 "cells": [
  {
   "cell_type": "code",
   "execution_count": null,
   "id": "96eea26e",
   "metadata": {},
   "outputs": [],
   "source": [
    "# Include code to demonstrate the \"leaf matrix\""
   ]
  },
  {
   "cell_type": "markdown",
   "id": "6c082958",
   "metadata": {},
   "source": [
    "Include description such as \"supervised similarity\" and be sure to emphasize that similarities can be used with mixed variable types.\n",
    "\n",
    "Explain how the self-similarity works and how to convert to distances.\n"
   ]
  }
 ],
 "metadata": {
  "language_info": {
   "name": "python"
  }
 },
 "nbformat": 4,
 "nbformat_minor": 5
}
